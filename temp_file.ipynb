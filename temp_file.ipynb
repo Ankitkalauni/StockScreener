{
 "cells": [
  {
   "cell_type": "code",
   "execution_count": 3,
   "metadata": {},
   "outputs": [],
   "source": [
    "import pandas as pd\n",
    "import os\n",
    "os.chdir('..')\n",
    "df = pd.read_feather('../datasets/stockdata_all.feather')"
   ]
  },
  {
   "cell_type": "code",
   "execution_count": 15,
   "metadata": {},
   "outputs": [],
   "source": [
    "_df = df.loc[df['symbol'] == 'IRFC.NS', :]\n"
   ]
  },
  {
   "cell_type": "code",
   "execution_count": 45,
   "metadata": {},
   "outputs": [
    {
     "name": "stdout",
     "output_type": "stream",
     "text": [
      "    symbol           std           start_timestamp             end_timestamp\n",
      "0  IRFC.NS  1.341679e+07 2024-01-21 21:15:00+05:30 2024-01-25 15:15:00+05:30\n"
     ]
    },
    {
     "name": "stderr",
     "output_type": "stream",
     "text": [
      "C:\\Users\\ankit.ka\\AppData\\Local\\Temp\\ipykernel_3656\\283495585.py:5: SettingWithCopyWarning: \n",
      "A value is trying to be set on a copy of a slice from a DataFrame.\n",
      "Try using .loc[row_indexer,col_indexer] = value instead\n",
      "\n",
      "See the caveats in the documentation: https://pandas.pydata.org/pandas-docs/stable/user_guide/indexing.html#returning-a-view-versus-a-copy\n",
      "  df[date_col] = pd.to_datetime(df[date_col])\n",
      "C:\\Users\\ankit.ka\\AppData\\Local\\Temp\\ipykernel_3656\\283495585.py:26: FutureWarning: The frame.append method is deprecated and will be removed from pandas in a future version. Use pandas.concat instead.\n",
      "  result_df = result_df.append({symbol_col: symbol, 'std': std, 'start_timestamp': start_timestamp, 'end_timestamp': end_timestamp}, ignore_index=True)\n"
     ]
    }
   ],
   "source": [
    "import pandas as pd\n",
    "\n",
    "def calculate_last_90_days_std(df, symbol_col='symbol', date_col='Date', volume_col='Volume'):\n",
    "    # Convert the 'date' column to datetime type\n",
    "    df[date_col] = pd.to_datetime(df[date_col])\n",
    "\n",
    "    # Group by 'symbol' and find the max timestamp for each symbol\n",
    "    max_timestamps = df.groupby(symbol_col)[date_col].max()\n",
    "\n",
    "    # Initialize an empty DataFrame to store the results\n",
    "    result_df = pd.DataFrame(columns=[symbol_col, 'std', 'start_timestamp', 'end_timestamp'])\n",
    "\n",
    "    # Loop through each symbol and calculate the standard deviation for the last 90 days\n",
    "    for symbol, max_timestamp in max_timestamps.items():\n",
    "        # Select data for the current symbol and exclude the last 90 days\n",
    "        selected_data = df[(df[symbol_col] == symbol) & (df[volume_col] > 0) & (df[date_col] < max_timestamp) & (df[date_col] >= max_timestamp - pd.Timedelta(hours=180))]\n",
    "\n",
    "        # Calculate standard deviation for the 'volume' column\n",
    "        std = selected_data[volume_col].std()\n",
    "\n",
    "        # Get the start and end timestamps\n",
    "        start_timestamp = max_timestamp - pd.Timedelta(hours=90)\n",
    "        end_timestamp = max_timestamp\n",
    "\n",
    "        # Append the result to the result DataFrame\n",
    "        result_df = result_df.append({symbol_col: symbol, 'std': std, 'start_timestamp': start_timestamp, 'end_timestamp': end_timestamp}, ignore_index=True)\n",
    "\n",
    "    return result_df\n",
    "\n",
    "# Example usage:\n",
    "# Replace 'your_dataframe' with the actual DataFrame containing your data\n",
    "result = calculate_last_90_days_std(_df)\n",
    "print(result)"
   ]
  },
  {
   "cell_type": "code",
   "execution_count": 62,
   "metadata": {},
   "outputs": [],
   "source": [
    "symbol_col='symbol'\n",
    "date_col='Date'\n",
    "volume_col='Volume'\n",
    "max_timestamps = _df.groupby(symbol_col)[date_col].max()"
   ]
  },
  {
   "cell_type": "code",
   "execution_count": 63,
   "metadata": {},
   "outputs": [
    {
     "name": "stderr",
     "output_type": "stream",
     "text": [
      "C:\\Users\\ankit.ka\\AppData\\Local\\Temp\\ipykernel_3656\\1859760627.py:2: UserWarning: Boolean Series key will be reindexed to match DataFrame index.\n",
      "  _df[(df[symbol_col] == 'IRFC.NS') & (df[volume_col] > 0) & (df[date_col] < max_timestamp) & (df[date_col] >= max_timestamp - pd.Timedelta(hours=180))].to_csv('irfc_sample_std.csv', index = False)\n"
     ]
    }
   ],
   "source": [
    "for symbol, max_timestamp in max_timestamps.items():\n",
    "    _df[(df[symbol_col] == 'IRFC.NS') & (df[volume_col] > 0) & (df[date_col] < max_timestamp) & (df[date_col] >= max_timestamp - pd.Timedelta(hours=180))].to_csv('irfc_sample_std.csv', index = False)"
   ]
  },
  {
   "cell_type": "code",
   "execution_count": 61,
   "metadata": {},
   "outputs": [
    {
     "data": {
      "text/plain": [
       "symbol\n",
       "20MICRONS.NS    2024-01-25 15:15:00+05:30\n",
       "21STCENMGM.NS   2024-01-25 15:15:00+05:30\n",
       "360ONE.NS       2024-01-25 15:15:00+05:30\n",
       "3IINFOLTD.NS    2024-01-25 15:15:00+05:30\n",
       "3MINDIA.NS      2024-01-25 15:15:00+05:30\n",
       "                           ...           \n",
       "ZOTA.NS         2024-01-25 15:15:00+05:30\n",
       "ZUARI.NS        2024-01-25 15:15:00+05:30\n",
       "ZUARIIND.NS     2024-01-25 15:15:00+05:30\n",
       "ZYDUSLIFE.NS    2024-01-25 15:15:00+05:30\n",
       "ZYDUSWELL.NS    2024-01-25 15:15:00+05:30\n",
       "Name: Date, Length: 1946, dtype: datetime64[ns, Asia/Kolkata]"
      ]
     },
     "execution_count": 61,
     "metadata": {},
     "output_type": "execute_result"
    }
   ],
   "source": [
    "max_timestamps"
   ]
  }
 ],
 "metadata": {
  "kernelspec": {
   "display_name": "Python 3",
   "language": "python",
   "name": "python3"
  },
  "language_info": {
   "codemirror_mode": {
    "name": "ipython",
    "version": 3
   },
   "file_extension": ".py",
   "mimetype": "text/x-python",
   "name": "python",
   "nbconvert_exporter": "python",
   "pygments_lexer": "ipython3",
   "version": "3.9.6"
  }
 },
 "nbformat": 4,
 "nbformat_minor": 2
}
